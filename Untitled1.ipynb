{
 "cells": [
  {
   "cell_type": "code",
   "execution_count": 1,
   "id": "12d8fa9e-93e2-4381-8051-b0dab4301014",
   "metadata": {},
   "outputs": [],
   "source": [
    "import numpy\n",
    "arr = numpy.zeros(100)\n",
    "brr = numpy.zeros(100)"
   ]
  },
  {
   "cell_type": "code",
   "execution_count": null,
   "id": "433fef86-4ce5-434f-add6-769b4d3d402e",
   "metadata": {},
   "outputs": [],
   "source": [
    "while True:\n",
    "    x = int(input())\n",
    "    if x < 0 :\n",
    "        break:\n",
    "     arr[x] = 1\n",
    "    "
   ]
  }
 ],
 "metadata": {
  "kernelspec": {
   "display_name": "Python 3 (ipykernel)",
   "language": "python",
   "name": "python3"
  },
  "language_info": {
   "codemirror_mode": {
    "name": "ipython",
    "version": 3
   },
   "file_extension": ".py",
   "mimetype": "text/x-python",
   "name": "python",
   "nbconvert_exporter": "python",
   "pygments_lexer": "ipython3",
   "version": "3.9.0"
  }
 },
 "nbformat": 4,
 "nbformat_minor": 5
}
